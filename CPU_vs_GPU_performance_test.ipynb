{
  "cells": [
    {
      "cell_type": "markdown",
      "metadata": {
        "id": "q-320PnYXSUo"
      },
      "source": [
        "# **A Deep Dive into Why GPUs Outpace CPUs**  A Hands-On Tutorial\n",
        "\n",
        "FLOPS is commonly used to quantify the computational power of processors and other computing devices. It is an important metric for tasks that involve complex mathematical calculations, such as scientific simulations, artificial intelligence and machine learning algorithms. <p>\n",
        "\n",
        "FLOPS stands for \"Floating Point Operations Per Second\" which means the number of floating-point calculations a computer system can perform in one second. The higher the FLOPS value, the faster the computer or processor can perform floating-point calculations, indicating better computational performance.\n",
        "<p>\n",
        "In this tutorial, let us use FLOPS as a metric to evaluate the performance of CPU versus GPU. We will begin by employing the DAXPY (Double-precision A*X plus Y) operation, a commonly used operation in numerical computing. This operation involves multiplying a scalar (A) with a vector (X) and adding the result to another vector (Y). We will calculate FLOPS to perform the DAXPY operation using both the CPU and GPU, respectively.\n",
        "<p>\n",
        "The DAXPY operation is executed using NumPy operations (A * X + Y). NumPy can leverage optimized implementations, and the actual computation may occur in optimized C or Fortran libraries. Therefore, a more effective way to compare speeds is by conducting matrix multiplications using TensorFlow. The second part of our code is designed to accomplish precisely this task. We will perform matrix multiplications of various-sized matrices and explore how the true advantage of GPUs lies in working with large matrices (datasets in general).\n",
        "\n"
      ]
    },
    {
      "cell_type": "markdown",
      "metadata": {
        "id": "vAoDcfzGbWLL"
      },
      "source": [
        "**Let us start by finding out the details of our current hadrware.**"
      ]
    },
    {
      "cell_type": "code",
      "execution_count": null,
      "metadata": {
        "colab": {
          "base_uri": "https://localhost:8080/"
        },
        "id": "_H7MGDjXGtO1",
        "outputId": "0ad57f09-372b-426e-da17-c604a80e1a91"
      },
      "outputs": [
        {
          "output_type": "stream",
          "name": "stdout",
          "text": [
            "CPU Information:\n",
            "Physical Cores: 1\n",
            "Total Cores: 2\n",
            "CPU Frequency: 2000.18\n",
            "CPU Usage: 100.0\n",
            "\n",
            "GPU Information:\n",
            "compute_capability: (7, 5)\n",
            "device_name: Tesla T4\n"
          ]
        }
      ],
      "source": [
        "import psutil\n",
        "import tensorflow as tf\n",
        "\n",
        "# CPU Information\n",
        "cpu_info = {\n",
        "    \"Physical Cores\": psutil.cpu_count(logical=False),\n",
        "    \"Total Cores\": psutil.cpu_count(logical=True),\n",
        "    \"CPU Frequency\": psutil.cpu_freq().current,\n",
        "    \"CPU Usage\": psutil.cpu_percent(interval=1),\n",
        "}\n",
        "\n",
        "print(\"CPU Information:\")\n",
        "for key, value in cpu_info.items():\n",
        "    print(f\"{key}: {value}\")\n",
        "\n",
        "# GPU Information\n",
        "physical_devices = tf.config.experimental.list_physical_devices('GPU')\n",
        "\n",
        "if physical_devices:\n",
        "    gpu_info = tf.config.experimental.get_device_details(physical_devices[0])\n",
        "    print(\"\\nGPU Information:\")\n",
        "    for key, value in gpu_info.items():\n",
        "        print(f\"{key}: {value}\")\n",
        "else:\n",
        "    print(\"\\nGPU not available on this machine.\")\n"
      ]
    },
    {
      "cell_type": "markdown",
      "metadata": {
        "id": "TpS1oB3qQI4b"
      },
      "source": [
        "At the time of this testing, the GPU offered by Colab is Tesla T4 <br><p>\n",
        "**Specifications:** <br>\n",
        "* Turing Tensor Cores. 320. <br>\n",
        "* **NVIDIA CUDA cores. 2,560.** <br>\n",
        "* **Single Precision Performance (FP32) 8.1 TFLOPS.**<br>\n",
        "* Mixed Precision (FP16/FP32) 65 FP16 TFLOPS.<br>\n",
        "* INT8 Precision. 130 INT8 TOPS.<br>\n",
        "* INT4 Precision. 260 INT4 TOPS.<br>\n",
        "\n",
        "\n"
      ]
    },
    {
      "cell_type": "markdown",
      "metadata": {
        "id": "WrslgBCQWPjs"
      },
      "source": [
        "**Calculating FLOPS for CPU and GPU using DAXPY**"
      ]
    },
    {
      "cell_type": "code",
      "execution_count": null,
      "metadata": {
        "colab": {
          "base_uri": "https://localhost:8080/"
        },
        "id": "XzHj_r9OGDRH",
        "outputId": "f976677e-2e9b-45c0-c2aa-099cc401464a"
      },
      "outputs": [
        {
          "output_type": "stream",
          "name": "stdout",
          "text": [
            "CPU FLOPS: 1.84e+08\n",
            "GPU FLOPS: 2.85e+08\n",
            "GPU is 54.98% faster than CPU.\n"
          ]
        }
      ],
      "source": [
        "import numpy as np\n",
        "import time\n",
        "import tensorflow as tf\n",
        "\n",
        "def perform_daxpy(array_size, use_gpu=False):\n",
        "    if use_gpu:\n",
        "        device = '/device:GPU:0'\n",
        "    else:\n",
        "        device = '/device:CPU:0'\n",
        "\n",
        "    with tf.device(device):\n",
        "        # Create NumPy arrays for vectors X, Y, and a scalar A\n",
        "        A = 2.0  # Scalar\n",
        "        X = np.random.rand(array_size)\n",
        "        Y = np.random.rand(array_size)\n",
        "\n",
        "        # Measure the time taken for the DAXPY operation\n",
        "        start_time = time.time()\n",
        "        result = A * X + Y\n",
        "        end_time = time.time()\n",
        "\n",
        "        # Calculate FLOPS\n",
        "        elapsed_time = end_time - start_time\n",
        "        flops = array_size / elapsed_time\n",
        "\n",
        "        return flops\n",
        "\n",
        "\n",
        "# Define the size of the array for the operation\n",
        "array_size = 10**6  #System crashes for large arrays as they may exceed system memory.\n",
        "\n",
        "# Perform DAXPY on CPU\n",
        "cpu_flops = perform_daxpy(array_size, use_gpu=False)\n",
        "print(f\"CPU FLOPS: {cpu_flops:.2e}\")\n",
        "\n",
        "# Perform DAXPY on GPU (if available)\n",
        "if tf.config.experimental.list_physical_devices('GPU'):\n",
        "    gpu_flops = perform_daxpy(array_size, use_gpu=True)\n",
        "    print(f\"GPU FLOPS: {gpu_flops:.2e}\")\n",
        "    # Calculate percent difference\n",
        "    percent_difference = abs((gpu_flops - cpu_flops) / cpu_flops) * 100\n",
        "    print(f\"GPU is {percent_difference:.2f}% faster than CPU.\")\n",
        "else:\n",
        "    print(\"GPU not available on this machine.\")\n",
        "\n"
      ]
    },
    {
      "cell_type": "markdown",
      "metadata": {
        "id": "0odJ5clZb8Ri"
      },
      "source": [
        "We do not see a significant advantage of GPU over CPU. This is because DAXPY is not a suitable operation for this test. Moreover, increasing the array_size for this test beyond 10**6 (at the time of this test) demands additional RAM and crashes the system. Therefore, let us continue our CPU vs GPU speed test using matrix multiplication with the TensorFlow library."
      ]
    },
    {
      "cell_type": "markdown",
      "metadata": {
        "id": "VrMh_3RPcmx9"
      },
      "source": [
        "**Testing CPU vs GPU speed using matrix multiplication**"
      ]
    },
    {
      "cell_type": "markdown",
      "metadata": {
        "id": "jPU0yMMXK575"
      },
      "source": [
        "Here, we will verify the GPU speed advantage over CPU for different matrix sizes. The relative efficiency of the GPU compared to the CPU can vary based on the computational demands of the specific task. <p>\n",
        "In order to make sure we start with a common base line for each matrix multiplication task, we will clear the default graph and release the GPU memory. We will also disable the eager execution in TensorFlow for the matrix multiplication task. Please note that eager execution is a mode that allows operations to be executed immediately as they are called, instead of requiring them to be explicitly executed within a session. Eager execution is enabled by default in TensorFlow 2.x. By disabling eager execution, operations are added to a computation graph, and the graph is executed within a session."
      ]
    },
    {
      "cell_type": "code",
      "execution_count": null,
      "metadata": {
        "colab": {
          "base_uri": "https://localhost:8080/"
        },
        "id": "30zogfV0R8NL",
        "outputId": "39fdf56d-5196-4b2f-825a-47e2a458414c"
      },
      "outputs": [
        {
          "output_type": "stream",
          "name": "stderr",
          "text": [
            "WARNING:tensorflow:From <ipython-input-3-1573563fef9e>:23: experimental_run_functions_eagerly (from tensorflow.python.eager.polymorphic_function.eager_function_run) is deprecated and will be removed in a future version.\n",
            "Instructions for updating:\n",
            "Use `tf.config.run_functions_eagerly` instead of the experimental version.\n"
          ]
        },
        {
          "output_type": "stream",
          "name": "stdout",
          "text": [
            "Matrix Size: 100, GPU TFLOPS: 1.64290193636077e-05, CPU TFLOPS: 0.0008879652799830634\n",
            "GPU is -98.15% faster than CPU.\n",
            "\n",
            "Matrix Size: 200, GPU TFLOPS: 0.0005454630458990011, CPU TFLOPS: 0.007363272328286153\n",
            "GPU is -92.59% faster than CPU.\n",
            "\n",
            "Matrix Size: 300, GPU TFLOPS: 0.019264473590201583, CPU TFLOPS: 0.011549842733299337\n",
            "GPU is 66.79% faster than CPU.\n",
            "\n",
            "Matrix Size: 400, GPU TFLOPS: 0.0534040497363971, CPU TFLOPS: 0.012853949577417577\n",
            "GPU is 315.47% faster than CPU.\n",
            "\n",
            "Matrix Size: 500, GPU TFLOPS: 0.059976891837785276, CPU TFLOPS: 0.01263101088946709\n",
            "GPU is 374.84% faster than CPU.\n",
            "\n",
            "Matrix Size: 600, GPU TFLOPS: 0.11039659586912813, CPU TFLOPS: 0.016305709241111202\n",
            "GPU is 577.04% faster than CPU.\n",
            "\n",
            "Matrix Size: 700, GPU TFLOPS: 0.13078008017817372, CPU TFLOPS: 0.015063885658042156\n",
            "GPU is 768.17% faster than CPU.\n",
            "\n",
            "Matrix Size: 800, GPU TFLOPS: 0.17862948328065212, CPU TFLOPS: 0.014528627181424865\n",
            "GPU is 1129.50% faster than CPU.\n",
            "\n",
            "Matrix Size: 900, GPU TFLOPS: 0.14698462280975846, CPU TFLOPS: 0.017388261945855882\n",
            "GPU is 745.31% faster than CPU.\n",
            "\n",
            "Matrix Size: 1000, GPU TFLOPS: 0.1699268322327108, CPU TFLOPS: 0.018679166045037842\n",
            "GPU is 809.71% faster than CPU.\n",
            "\n",
            "Matrix Size: 5000, GPU TFLOPS: 0.47588912428224694, CPU TFLOPS: 0.018327365704403763\n",
            "GPU is 2496.60% faster than CPU.\n",
            "\n",
            "Matrix Size: 7500, GPU TFLOPS: 0.6120138895974497, CPU TFLOPS: 0.018734416215606887\n",
            "GPU is 3166.79% faster than CPU.\n",
            "\n",
            "Matrix Size: 10000, GPU TFLOPS: 0.9882070490056504, CPU TFLOPS: 0.018981568348111322\n",
            "GPU is 5106.14% faster than CPU.\n",
            "\n"
          ]
        }
      ],
      "source": [
        "import numpy as np\n",
        "import pandas as pd\n",
        "import time\n",
        "import tensorflow as tf\n",
        "import seaborn as sns\n",
        "import matplotlib.pyplot as plt\n",
        "\n",
        "def perform_matmul(matrix_size, use_gpu=False):\n",
        "    if use_gpu:\n",
        "        device = '/device:GPU:0'\n",
        "    else:\n",
        "        device = '/device:CPU:0'\n",
        "\n",
        "    with tf.device(device):\n",
        "        # Reset default graph and clear GPU memory\n",
        "        tf.compat.v1.reset_default_graph()\n",
        "\n",
        "        # Create NumPy arrays for matrices A and B\n",
        "        A = np.random.rand(matrix_size, matrix_size)\n",
        "        B = np.random.rand(matrix_size, matrix_size)\n",
        "\n",
        "        # Disable eager execution temporarily\n",
        "        tf.config.experimental_run_functions_eagerly(False)\n",
        "\n",
        "        # Measure the time taken for the matrix multiplication\n",
        "        start_time = time.time()\n",
        "        result = tf.matmul(A, B)\n",
        "        end_time = time.time()\n",
        "\n",
        "        # Enable eager execution again\n",
        "        tf.config.experimental_run_functions_eagerly(True)\n",
        "\n",
        "        # Calculate FLOPS\n",
        "        elapsed_time = end_time - start_time\n",
        "        flops = 2 * matrix_size**3 / elapsed_time\n",
        "\n",
        "        # Convert FLOPS to TFLOPS\n",
        "        tflops = flops / 1e12\n",
        "\n",
        "        return tflops\n",
        "\n",
        "# Matrix sizes to test\n",
        "matrix_sizes = [100, 200, 300, 400, 500, 600, 700, 800, 900, 1000,\n",
        "                5000, 7500, 10000]\n",
        "\n",
        "# Lists to store results\n",
        "data = {'Matrix Size': [], 'GPU TFLOPS': [], 'CPU TFLOPS': [], 'Percentage Speedup': []}\n",
        "\n",
        "# Loop through matrix sizes\n",
        "for matrix_size in matrix_sizes:\n",
        "    tflops_gpu = perform_matmul(matrix_size, use_gpu=True)\n",
        "    tflops_cpu = perform_matmul(matrix_size, use_gpu=False)\n",
        "\n",
        "    # Calculate percentage speedup\n",
        "    percentage_speedup = ((tflops_gpu - tflops_cpu) / tflops_cpu) * 100\n",
        "\n",
        "    # Store data in the dictionary\n",
        "    data['Matrix Size'].append(matrix_size)\n",
        "    data['GPU TFLOPS'].append(tflops_gpu)\n",
        "    data['CPU TFLOPS'].append(tflops_cpu)\n",
        "    data['Percentage Speedup'].append(percentage_speedup)\n",
        "\n",
        "    # Print results for each matrix size\n",
        "    print(f\"Matrix Size: {matrix_size}, GPU TFLOPS: {tflops_gpu}, CPU TFLOPS: {tflops_cpu}\")\n",
        "    print(f\"GPU is {percentage_speedup:.2f}% faster than CPU.\\n\")\n",
        "\n",
        "# Create a DataFrame from the collected data\n",
        "df = pd.DataFrame(data)\n",
        "\n"
      ]
    },
    {
      "cell_type": "code",
      "execution_count": null,
      "metadata": {
        "id": "tBtLHOPI_URZ"
      },
      "outputs": [],
      "source": []
    },
    {
      "cell_type": "markdown",
      "metadata": {
        "id": "c1DVEdwILzCG"
      },
      "source": [
        "How come CPU is faster than GPU for small matrix sizes? <br>\n",
        "For small matrices, the computational advantage of the GPU may not outweigh the associated overhead and warm-up time. As the matrix size increases, the GPU's parallel processing capability becomes more effective"
      ]
    },
    {
      "cell_type": "code",
      "execution_count": null,
      "metadata": {
        "colab": {
          "base_uri": "https://localhost:8080/",
          "height": 607
        },
        "id": "ZIYZqt0nStCU",
        "outputId": "10a83044-77e3-4896-976d-bada8d077069"
      },
      "outputs": [
        {
          "output_type": "display_data",
          "data": {
            "text/plain": [
              "<Figure size 1000x600 with 2 Axes>"
            ],
            "image/png": "[encoded data removed]"
          },
          "metadata": {}
        }
      ],
      "source": [
        "# Plotting the results with CPU and GPU TFLOPS, and Percentage Speedup\n",
        "fig, ax1 = plt.subplots(figsize=(10, 6))\n",
        "\n",
        "# Plot GPU TFLOPS on the primary y-axis\n",
        "gpu_tflops_line, = ax1.plot(df['Matrix Size'], df['GPU TFLOPS'], marker='o', linestyle='-', color='blue', label='GPU TFLOPS')\n",
        "cpu_tflops_line, = ax1.plot(df['Matrix Size'], df['CPU TFLOPS'], marker='o', linestyle='-', color='green', label='CPU TFLOPS')\n",
        "ax1.set_xlabel('Matrix Size')\n",
        "ax1.set_ylabel('GPU/CPU TFLOPS', color='black')\n",
        "ax1.tick_params('y', colors='black')\n",
        "\n",
        "# Create a secondary y-axis for Percentage Speedup\n",
        "ax2 = ax1.twinx()\n",
        "speedup_line, = ax2.plot(df['Matrix Size'], df['Percentage Speedup'], marker='o', linestyle='-', color='red', label='GPU Speedup')\n",
        "ax2.set_ylabel('GPU Speedup (%)', color='red')\n",
        "ax2.tick_params('y', colors='red')\n",
        "\n",
        "# Add legend\n",
        "lines = [gpu_tflops_line, cpu_tflops_line, speedup_line]\n",
        "labels = [line.get_label() for line in lines]\n",
        "ax1.legend(lines, labels, loc='upper left')\n",
        "\n",
        "plt.xscale('log')  # Use a logarithmic scale for better visualization\n",
        "plt.title('GPU Speedup Over CPU for Matrix Multiplication')\n",
        "fig.tight_layout()\n",
        "plt.show()"
      ]
    },
    {
      "cell_type": "markdown",
      "metadata": {
        "id": "WGAgFyaFhdyd"
      },
      "source": [
        "**Summary of our experiment:**\n",
        " <p>\n",
        " GPU is highly effective in handling larger and more computationally intensive tasks. On the other hand, the CPU's performance appears to plateau with the matrix size."
      ]
    },
    {
      "cell_type": "markdown",
      "metadata": {
        "id": "qw2g644QD6Dv"
      },
      "source": [
        "### Write an code for the follwoing  \n",
        "\n",
        "You are a data scientist working at a company that develops image recognition systems. Your team has been tasked with building an image classification model to recognize handwritten digits from the MNIST dataset. The goal is to build a model that can classify digits (0-9) accurately and efficiently. The model should be trained both on a CPU and a GPU to compare the performance and determine the best hardware setup for deployment in production. You decide to use a Convolutional Neural Network (CNN) architecture for this task, as it is known to perform well with image data.\n",
        "\n",
        "The model architecture consists of several layers designed for image classification tasks, such as recognizing digits from the MNIST dataset. The architecture begins with a 2D convolutional layer (Conv2D), which applies 32 filters of size 3x3 to the input image (28x28x1), followed by the ReLU activation function to introduce non-linearity. This is followed by a max-pooling layer (MaxPooling2D) with a pool size of 2x2, reducing the spatial dimensions of the feature maps while retaining important information. A second convolutional layer with 64 filters of size 3x3 is then applied, again using ReLU activation. Another max-pooling layer  (2x2 ) follows to further downsample the feature maps. The output of the convolutional layers is then flattened into a one-dimensional vector using the Flatten layer, which is fed into the fully connected dense layers. The first dense layer has 64 neurons with ReLU activation, allowing the model to learn complex representations, while the final dense layer has 10 neurons with a softmax activation function, providing probabilities for each of the 10 possible digit classes.\n",
        "\n",
        "\n",
        "The training process is measured on both CPU and GPU, and you are also tracking the time it takes to train the model on each device."
      ]
    },
    {
      "cell_type": "code",
      "execution_count": 1,
      "metadata": {
        "id": "GG-duekrEmtd",
        "colab": {
          "base_uri": "https://localhost:8080/"
        },
        "outputId": "246a20f5-4de1-4bdb-985d-8cdb36485410"
      },
      "outputs": [
        {
          "output_type": "stream",
          "name": "stdout",
          "text": [
            "Downloading data from https://storage.googleapis.com/tensorflow/tf-keras-datasets/mnist.npz\n",
            "\u001b[1m11490434/11490434\u001b[0m \u001b[32m━━━━━━━━━━━━━━━━━━━━\u001b[0m\u001b[37m\u001b[0m \u001b[1m0s\u001b[0m 0us/step\n"
          ]
        },
        {
          "output_type": "stream",
          "name": "stderr",
          "text": [
            "/usr/local/lib/python3.11/dist-packages/keras/src/layers/convolutional/base_conv.py:107: UserWarning: Do not pass an `input_shape`/`input_dim` argument to a layer. When using Sequential models, prefer using an `Input(shape)` object as the first layer in the model instead.\n",
            "  super().__init__(activity_regularizer=activity_regularizer, **kwargs)\n"
          ]
        },
        {
          "output_type": "stream",
          "name": "stdout",
          "text": [
            "\n",
            "Training on /cpu:0...\n",
            "Epoch 1/5\n",
            "\u001b[1m750/750\u001b[0m \u001b[32m━━━━━━━━━━━━━━━━━━━━\u001b[0m\u001b[37m\u001b[0m \u001b[1m47s\u001b[0m 58ms/step - accuracy: 0.8610 - loss: 0.4589 - val_accuracy: 0.9804 - val_loss: 0.0701\n",
            "Epoch 2/5\n",
            "\u001b[1m750/750\u001b[0m \u001b[32m━━━━━━━━━━━━━━━━━━━━\u001b[0m\u001b[37m\u001b[0m \u001b[1m49s\u001b[0m 66ms/step - accuracy: 0.9800 - loss: 0.0661 - val_accuracy: 0.9838 - val_loss: 0.0555\n",
            "Epoch 3/5\n",
            "\u001b[1m750/750\u001b[0m \u001b[32m━━━━━━━━━━━━━━━━━━━━\u001b[0m\u001b[37m\u001b[0m \u001b[1m75s\u001b[0m 57ms/step - accuracy: 0.9864 - loss: 0.0434 - val_accuracy: 0.9858 - val_loss: 0.0496\n",
            "Epoch 4/5\n",
            "\u001b[1m750/750\u001b[0m \u001b[32m━━━━━━━━━━━━━━━━━━━━\u001b[0m\u001b[37m\u001b[0m \u001b[1m44s\u001b[0m 58ms/step - accuracy: 0.9892 - loss: 0.0352 - val_accuracy: 0.9877 - val_loss: 0.0423\n",
            "Epoch 5/5\n",
            "\u001b[1m750/750\u001b[0m \u001b[32m━━━━━━━━━━━━━━━━━━━━\u001b[0m\u001b[37m\u001b[0m \u001b[1m47s\u001b[0m 62ms/step - accuracy: 0.9918 - loss: 0.0256 - val_accuracy: 0.9869 - val_loss: 0.0420\n",
            "Test accuracy on /cpu:0: 0.9890\n",
            "Training time on /cpu:0: 301.03 seconds\n",
            "GPU not available. Skipping GPU training.\n"
          ]
        }
      ],
      "source": [
        "#CPU\n",
        "\n",
        "import tensorflow as tf\n",
        "from tensorflow.keras import layers, models\n",
        "from tensorflow.keras.datasets import mnist\n",
        "from tensorflow.keras.utils import to_categorical\n",
        "import time\n",
        "\n",
        "# Load the MNIST dataset\n",
        "(x_train, y_train), (x_test, y_test) = mnist.load_data()\n",
        "\n",
        "# Preprocess the data\n",
        "x_train = x_train.reshape((x_train.shape[0], 28, 28, 1)).astype('float32') / 255\n",
        "x_test = x_test.reshape((x_test.shape[0], 28, 28, 1)).astype('float32') / 255\n",
        "\n",
        "# Convert labels to one-hot encoding\n",
        "y_train = to_categorical(y_train, 10)\n",
        "y_test = to_categorical(y_test, 10)\n",
        "\n",
        "# Define the CNN model\n",
        "def create_cnn_model():\n",
        "    model = models.Sequential([\n",
        "        layers.Conv2D(32, (3, 3), activation='relu', input_shape=(28, 28, 1)),\n",
        "        layers.MaxPooling2D((2, 2)),\n",
        "        layers.Conv2D(64, (3, 3), activation='relu'),\n",
        "        layers.MaxPooling2D((2, 2)),\n",
        "        layers.Flatten(),\n",
        "        layers.Dense(64, activation='relu'),\n",
        "        layers.Dense(10, activation='softmax')\n",
        "    ])\n",
        "    return model\n",
        "\n",
        "# Compile the model\n",
        "model = create_cnn_model()\n",
        "model.compile(optimizer='adam', loss='categorical_crossentropy', metrics=['accuracy'])\n",
        "\n",
        "# Function to train and evaluate the model\n",
        "def train_and_evaluate(device):\n",
        "    # Set the device (CPU or GPU)\n",
        "    with tf.device(device):\n",
        "        print(f\"\\nTraining on {device}...\")\n",
        "        start_time = time.time()\n",
        "\n",
        "        # Train the model\n",
        "        model.fit(x_train, y_train, epochs=5, batch_size=64, validation_split=0.2, verbose=1)\n",
        "\n",
        "        # Evaluate the model\n",
        "        test_loss, test_acc = model.evaluate(x_test, y_test, verbose=0)\n",
        "        print(f\"Test accuracy on {device}: {test_acc:.4f}\")\n",
        "\n",
        "        # Print training time\n",
        "        training_time = time.time() - start_time\n",
        "        print(f\"Training time on {device}: {training_time:.2f} seconds\")\n",
        "\n",
        "# Train and evaluate on CPU\n",
        "train_and_evaluate('/cpu:0')\n",
        "\n",
        "# Train and evaluate on GPU (if available)\n",
        "if tf.config.list_physical_devices('GPU'):\n",
        "    train_and_evaluate('/gpu:0')\n",
        "else:\n",
        "    print(\"GPU not available. Skipping GPU training.\")"
      ]
    },
    {
      "cell_type": "code",
      "source": [
        "#GPU\n",
        "\n",
        "import tensorflow as tf\n",
        "from tensorflow.keras import layers, models\n",
        "from tensorflow.keras.datasets import mnist\n",
        "from tensorflow.keras.utils import to_categorical\n",
        "import time\n",
        "\n",
        "# Load the MNIST dataset\n",
        "(x_train, y_train), (x_test, y_test) = mnist.load_data()\n",
        "\n",
        "# Preprocess the data\n",
        "x_train = x_train.reshape((x_train.shape[0], 28, 28, 1)).astype('float32') / 255\n",
        "x_test = x_test.reshape((x_test.shape[0], 28, 28, 1)).astype('float32') / 255\n",
        "\n",
        "# Convert labels to one-hot encoding\n",
        "y_train = to_categorical(y_train, 10)\n",
        "y_test = to_categorical(y_test, 10)\n",
        "\n",
        "# Define the CNN model\n",
        "def create_cnn_model():\n",
        "    model = models.Sequential([\n",
        "        layers.Conv2D(32, (3, 3), activation='relu', input_shape=(28, 28, 1)),\n",
        "        layers.MaxPooling2D((2, 2)),\n",
        "        layers.Conv2D(64, (3, 3), activation='relu'),\n",
        "        layers.MaxPooling2D((2, 2)),\n",
        "        layers.Flatten(),\n",
        "        layers.Dense(64, activation='relu'),\n",
        "        layers.Dense(10, activation='softmax')\n",
        "    ])\n",
        "    return model\n",
        "\n",
        "# Create and compile the model\n",
        "model = create_cnn_model()\n",
        "model.compile(optimizer='adam', loss='categorical_crossentropy', metrics=['accuracy'])\n",
        "\n",
        "# Check if GPU is available\n",
        "if tf.config.list_physical_devices('GPU'):\n",
        "    print(\"GPU is available. Training on GPU...\")\n",
        "    start_time = time.time()\n",
        "\n",
        "    # Train the model\n",
        "    model.fit(x_train, y_train, epochs=5, batch_size=64, validation_split=0.2, verbose=1)\n",
        "\n",
        "    # Evaluate the model\n",
        "    test_loss, test_acc = model.evaluate(x_test, y_test, verbose=0)\n",
        "    print(f\"Test accuracy: {test_acc:.4f}\")\n",
        "\n",
        "    # Print training time\n",
        "    training_time = time.time() - start_time\n",
        "    print(f\"Training time on GPU: {training_time:.2f} seconds\")\n",
        "else:\n",
        "    print(\"GPU not available. Please ensure TensorFlow is installed with GPU support.\")"
      ],
      "metadata": {
        "colab": {
          "base_uri": "https://localhost:8080/"
        },
        "id": "jv21XHCokBnp",
        "outputId": "aaf75fdb-9fef-460b-cf21-bd44323ad9e9"
      },
      "execution_count": 1,
      "outputs": [
        {
          "output_type": "stream",
          "name": "stdout",
          "text": [
            "Downloading data from https://storage.googleapis.com/tensorflow/tf-keras-datasets/mnist.npz\n",
            "\u001b[1m11490434/11490434\u001b[0m \u001b[32m━━━━━━━━━━━━━━━━━━━━\u001b[0m\u001b[37m\u001b[0m \u001b[1m0s\u001b[0m 0us/step\n"
          ]
        },
        {
          "output_type": "stream",
          "name": "stderr",
          "text": [
            "/usr/local/lib/python3.11/dist-packages/keras/src/layers/convolutional/base_conv.py:107: UserWarning: Do not pass an `input_shape`/`input_dim` argument to a layer. When using Sequential models, prefer using an `Input(shape)` object as the first layer in the model instead.\n",
            "  super().__init__(activity_regularizer=activity_regularizer, **kwargs)\n"
          ]
        },
        {
          "output_type": "stream",
          "name": "stdout",
          "text": [
            "GPU is available. Training on GPU...\n",
            "Epoch 1/5\n",
            "\u001b[1m750/750\u001b[0m \u001b[32m━━━━━━━━━━━━━━━━━━━━\u001b[0m\u001b[37m\u001b[0m \u001b[1m8s\u001b[0m 5ms/step - accuracy: 0.8684 - loss: 0.4515 - val_accuracy: 0.9793 - val_loss: 0.0723\n",
            "Epoch 2/5\n",
            "\u001b[1m750/750\u001b[0m \u001b[32m━━━━━━━━━━━━━━━━━━━━\u001b[0m\u001b[37m\u001b[0m \u001b[1m3s\u001b[0m 4ms/step - accuracy: 0.9806 - loss: 0.0640 - val_accuracy: 0.9828 - val_loss: 0.0565\n",
            "Epoch 3/5\n",
            "\u001b[1m750/750\u001b[0m \u001b[32m━━━━━━━━━━━━━━━━━━━━\u001b[0m\u001b[37m\u001b[0m \u001b[1m4s\u001b[0m 5ms/step - accuracy: 0.9865 - loss: 0.0430 - val_accuracy: 0.9849 - val_loss: 0.0489\n",
            "Epoch 4/5\n",
            "\u001b[1m750/750\u001b[0m \u001b[32m━━━━━━━━━━━━━━━━━━━━\u001b[0m\u001b[37m\u001b[0m \u001b[1m4s\u001b[0m 6ms/step - accuracy: 0.9894 - loss: 0.0330 - val_accuracy: 0.9867 - val_loss: 0.0484\n",
            "Epoch 5/5\n",
            "\u001b[1m750/750\u001b[0m \u001b[32m━━━━━━━━━━━━━━━━━━━━\u001b[0m\u001b[37m\u001b[0m \u001b[1m4s\u001b[0m 5ms/step - accuracy: 0.9917 - loss: 0.0266 - val_accuracy: 0.9883 - val_loss: 0.0376\n",
            "Test accuracy: 0.9893\n",
            "Training time on GPU: 26.40 seconds\n"
          ]
        }
      ]
    }
  ],
  "metadata": {
    "accelerator": "GPU",
    "colab": {
      "gpuType": "T4",
      "provenance": []
    },
    "kernelspec": {
      "display_name": "Python 3",
      "name": "python3"
    },
    "language_info": {
      "codemirror_mode": {
        "name": "ipython",
        "version": 3
      },
      "file_extension": ".py",
      "mimetype": "text/x-python",
      "name": "python",
      "nbconvert_exporter": "python",
      "pygments_lexer": "ipython3",
      "version": "3.8.20"
    }
  },
  "nbformat": 4,
  "nbformat_minor": 0
}